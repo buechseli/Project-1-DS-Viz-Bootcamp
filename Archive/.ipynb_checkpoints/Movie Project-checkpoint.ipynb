{
 "cells": [
  {
   "cell_type": "code",
   "execution_count": 1,
   "metadata": {
    "collapsed": true
   },
   "outputs": [],
   "source": [
    "# !pip install plotly\n",
    "\n",
    "## Dependencies\n",
    "import csv\n",
    "import numpy as np\n",
    "import pandas as pd\n",
    "import requests\n",
    "import json\n",
    "import plotly\n",
    "import plotly.plotly as py\n",
    "import plotly.graph_objs as go\n",
    "import matplotlib as mpl\n",
    "import matplotlib.pyplot as plt\n",
    "import ipywidgets as widgets\n",
    "from ipywidgets import interact, interactive, fixed, interact_manual\n",
    "from IPython.display import display"
   ]
  },
  {
   "cell_type": "code",
   "execution_count": 2,
   "metadata": {},
   "outputs": [
    {
     "data": {
      "text/plain": [
       "Index(['Movie Title', 'Movie Title (loop)', 'Year', 'Studio', 'Total Gross',\n",
       "       'Theaters', 'Opening', 'Open', 'Close', 'Rated', 'Runtime (Minutes)',\n",
       "       'Director', 'Actor 1', 'Actor 2', 'Rotten Tomatoes (%)', 'Metacritic',\n",
       "       'IMDB Rating', 'Production Studio', 'Month', 'Season', 'View Count',\n",
       "       'Video Title', 'Like Count', 'Dislike Count', 'Comment Count'],\n",
       "      dtype='object')"
      ]
     },
     "execution_count": 2,
     "metadata": {},
     "output_type": "execute_result"
    }
   ],
   "source": [
    "## Read Movie csv file to Movie pandas data frame\n",
    "data = pd.read_csv(\"movie.csv\")\n",
    "movie_data = pd.DataFrame(data)\n",
    "movie_data.columns"
   ]
  },
  {
   "cell_type": "code",
   "execution_count": 14,
   "metadata": {},
   "outputs": [
    {
     "name": "stderr",
     "output_type": "stream",
     "text": [
      "/Users/fathielshibani/anaconda3/lib/python3.6/site-packages/sklearn/preprocessing/data.py:164: UserWarning:\n",
      "\n",
      "Numerical issues were encountered when centering the data and might not be solved. Dataset may contain too large values. You may need to prescale your features.\n",
      "\n"
     ]
    },
    {
     "data": {
      "text/html": [
       "<div>\n",
       "<style>\n",
       "    .dataframe thead tr:only-child th {\n",
       "        text-align: right;\n",
       "    }\n",
       "\n",
       "    .dataframe thead th {\n",
       "        text-align: left;\n",
       "    }\n",
       "\n",
       "    .dataframe tbody tr th {\n",
       "        vertical-align: top;\n",
       "    }\n",
       "</style>\n",
       "<table border=\"1\" class=\"dataframe\">\n",
       "  <thead>\n",
       "    <tr style=\"text-align: right;\">\n",
       "      <th></th>\n",
       "      <th>Factor1</th>\n",
       "      <th>Factor2</th>\n",
       "      <th>Factor3</th>\n",
       "      <th>Factor4</th>\n",
       "      <th>Factor5</th>\n",
       "      <th>Factor6</th>\n",
       "      <th>Factor7</th>\n",
       "      <th>Factor8</th>\n",
       "    </tr>\n",
       "  </thead>\n",
       "  <tbody>\n",
       "    <tr>\n",
       "      <th>Year</th>\n",
       "      <td>0.355275</td>\n",
       "      <td>-0.139014</td>\n",
       "      <td>-0.023640</td>\n",
       "      <td>0.336908</td>\n",
       "      <td>0.090385</td>\n",
       "      <td>0.366968</td>\n",
       "      <td>0.053898</td>\n",
       "      <td>0.025031</td>\n",
       "    </tr>\n",
       "    <tr>\n",
       "      <th>Total Gross</th>\n",
       "      <td>0.779849</td>\n",
       "      <td>0.005223</td>\n",
       "      <td>0.120707</td>\n",
       "      <td>0.027379</td>\n",
       "      <td>0.462627</td>\n",
       "      <td>-0.175707</td>\n",
       "      <td>-0.137885</td>\n",
       "      <td>-0.015143</td>\n",
       "    </tr>\n",
       "    <tr>\n",
       "      <th>Opening</th>\n",
       "      <td>0.732032</td>\n",
       "      <td>-0.287035</td>\n",
       "      <td>0.515196</td>\n",
       "      <td>-0.178645</td>\n",
       "      <td>0.245332</td>\n",
       "      <td>0.083395</td>\n",
       "      <td>0.083046</td>\n",
       "      <td>-0.006201</td>\n",
       "    </tr>\n",
       "    <tr>\n",
       "      <th>Runtime (Minutes)</th>\n",
       "      <td>0.276776</td>\n",
       "      <td>-0.326971</td>\n",
       "      <td>-0.106225</td>\n",
       "      <td>-0.653416</td>\n",
       "      <td>-0.069717</td>\n",
       "      <td>0.246679</td>\n",
       "      <td>-0.063671</td>\n",
       "      <td>0.085658</td>\n",
       "    </tr>\n",
       "    <tr>\n",
       "      <th>Rotten Tomatoes (%)</th>\n",
       "      <td>0.333488</td>\n",
       "      <td>0.886484</td>\n",
       "      <td>0.051732</td>\n",
       "      <td>0.059989</td>\n",
       "      <td>0.019461</td>\n",
       "      <td>0.074246</td>\n",
       "      <td>-0.017672</td>\n",
       "      <td>0.098575</td>\n",
       "    </tr>\n",
       "    <tr>\n",
       "      <th>Metacritic</th>\n",
       "      <td>0.325947</td>\n",
       "      <td>0.899658</td>\n",
       "      <td>0.005100</td>\n",
       "      <td>-0.058053</td>\n",
       "      <td>0.054602</td>\n",
       "      <td>-0.017147</td>\n",
       "      <td>0.138714</td>\n",
       "      <td>0.067068</td>\n",
       "    </tr>\n",
       "    <tr>\n",
       "      <th>IMDB Rating</th>\n",
       "      <td>0.365257</td>\n",
       "      <td>0.800673</td>\n",
       "      <td>0.003861</td>\n",
       "      <td>-0.181078</td>\n",
       "      <td>-0.144423</td>\n",
       "      <td>0.113578</td>\n",
       "      <td>-0.125193</td>\n",
       "      <td>-0.148011</td>\n",
       "    </tr>\n",
       "    <tr>\n",
       "      <th>Month</th>\n",
       "      <td>0.128784</td>\n",
       "      <td>0.040730</td>\n",
       "      <td>-0.726187</td>\n",
       "      <td>-0.207596</td>\n",
       "      <td>0.290799</td>\n",
       "      <td>-0.071834</td>\n",
       "      <td>0.090857</td>\n",
       "      <td>-0.030986</td>\n",
       "    </tr>\n",
       "    <tr>\n",
       "      <th>View Count</th>\n",
       "      <td>0.861261</td>\n",
       "      <td>-0.133201</td>\n",
       "      <td>-0.007098</td>\n",
       "      <td>0.003937</td>\n",
       "      <td>-0.284180</td>\n",
       "      <td>-0.267949</td>\n",
       "      <td>-0.025024</td>\n",
       "      <td>0.112265</td>\n",
       "    </tr>\n",
       "    <tr>\n",
       "      <th>Like Count</th>\n",
       "      <td>0.940040</td>\n",
       "      <td>-0.167318</td>\n",
       "      <td>-0.029522</td>\n",
       "      <td>0.090252</td>\n",
       "      <td>-0.174327</td>\n",
       "      <td>0.056115</td>\n",
       "      <td>0.084070</td>\n",
       "      <td>-0.104994</td>\n",
       "    </tr>\n",
       "    <tr>\n",
       "      <th>Dislike Count</th>\n",
       "      <td>0.691793</td>\n",
       "      <td>-0.179516</td>\n",
       "      <td>-0.374978</td>\n",
       "      <td>0.341552</td>\n",
       "      <td>-0.009294</td>\n",
       "      <td>0.136042</td>\n",
       "      <td>-0.113110</td>\n",
       "      <td>0.050048</td>\n",
       "    </tr>\n",
       "    <tr>\n",
       "      <th>Comment Count</th>\n",
       "      <td>0.895492</td>\n",
       "      <td>-0.161302</td>\n",
       "      <td>-0.074825</td>\n",
       "      <td>-0.069399</td>\n",
       "      <td>-0.164285</td>\n",
       "      <td>-0.100689</td>\n",
       "      <td>0.067772</td>\n",
       "      <td>-0.050863</td>\n",
       "    </tr>\n",
       "  </tbody>\n",
       "</table>\n",
       "</div>"
      ],
      "text/plain": [
       "                      Factor1   Factor2   Factor3   Factor4   Factor5  \\\n",
       "Year                 0.355275 -0.139014 -0.023640  0.336908  0.090385   \n",
       "Total Gross          0.779849  0.005223  0.120707  0.027379  0.462627   \n",
       "Opening              0.732032 -0.287035  0.515196 -0.178645  0.245332   \n",
       "Runtime (Minutes)    0.276776 -0.326971 -0.106225 -0.653416 -0.069717   \n",
       "Rotten Tomatoes (%)  0.333488  0.886484  0.051732  0.059989  0.019461   \n",
       "Metacritic           0.325947  0.899658  0.005100 -0.058053  0.054602   \n",
       "IMDB Rating          0.365257  0.800673  0.003861 -0.181078 -0.144423   \n",
       "Month                0.128784  0.040730 -0.726187 -0.207596  0.290799   \n",
       "View Count           0.861261 -0.133201 -0.007098  0.003937 -0.284180   \n",
       "Like Count           0.940040 -0.167318 -0.029522  0.090252 -0.174327   \n",
       "Dislike Count        0.691793 -0.179516 -0.374978  0.341552 -0.009294   \n",
       "Comment Count        0.895492 -0.161302 -0.074825 -0.069399 -0.164285   \n",
       "\n",
       "                      Factor6   Factor7   Factor8  \n",
       "Year                 0.366968  0.053898  0.025031  \n",
       "Total Gross         -0.175707 -0.137885 -0.015143  \n",
       "Opening              0.083395  0.083046 -0.006201  \n",
       "Runtime (Minutes)    0.246679 -0.063671  0.085658  \n",
       "Rotten Tomatoes (%)  0.074246 -0.017672  0.098575  \n",
       "Metacritic          -0.017147  0.138714  0.067068  \n",
       "IMDB Rating          0.113578 -0.125193 -0.148011  \n",
       "Month               -0.071834  0.090857 -0.030986  \n",
       "View Count          -0.267949 -0.025024  0.112265  \n",
       "Like Count           0.056115  0.084070 -0.104994  \n",
       "Dislike Count        0.136042 -0.113110  0.050048  \n",
       "Comment Count       -0.100689  0.067772 -0.050863  "
      ]
     },
     "execution_count": 14,
     "metadata": {},
     "output_type": "execute_result"
    }
   ],
   "source": [
    "!pip install factor-analyzer==0.2.2 \n",
    "from factor_analyzer import FactorAnalyzer\n",
    " \n",
    "fa = FactorAnalyzer()\n",
    "\n",
    "fa.analyze(data, 8, rotation=None)\n",
    "\n",
    "fa.loadings\n",
    "#fa.get_uniqueness()"
   ]
  },
  {
   "cell_type": "code",
   "execution_count": 4,
   "metadata": {},
   "outputs": [
    {
     "name": "stdout",
     "output_type": "stream",
     "text": [
      "High five! You successfully sent some data to your account on plotly. View your plot in your browser at https://plot.ly/~Fathi/0 or inside your plot.ly account where it is named 'update_button'\n"
     ]
    },
    {
     "data": {
      "text/html": [
       "<iframe id=\"igraph\" scrolling=\"no\" style=\"border:none;\" seamless=\"seamless\" src=\"https://plot.ly/~Fathi/0.embed\" height=\"525px\" width=\"100%\"></iframe>"
      ],
      "text/plain": [
       "<plotly.tools.PlotlyDisplay object>"
      ]
     },
     "execution_count": 4,
     "metadata": {},
     "output_type": "execute_result"
    }
   ],
   "source": [
    "\n",
    "plotly.tools.set_credentials_file(username='Fathi', api_key='3ssXq3mLsGvQb2RP6bLG')\n",
    "\n",
    "movie_revenue = go.Scatter(x=movie_data.index, y=movie_data[\"Total Gross\"], name='Movie Revenue',\n",
    "                           line=dict(color='#33CFA5'))\n",
    "\n",
    "movie_revenue_avg = go.Scatter(x=movie_data.index, y=[movie_data[\"Total Gross\"].mean()]*len(movie_data.index), \n",
    "                               name='Revenue Average', visible=False,line=dict(color='#33CFA5', dash='dash'))\n",
    "\n",
    "movie_youtube_like = go.Scatter(x=movie_data.index, y=movie_data[\"Like Count\"], name='Movie YouTube likes', \n",
    "                        line=dict(color='#F06A6A'))\n",
    "\n",
    "movie_youtube_like_avg = go.Scatter(x=movie_data.index, y=[movie_data[\"Like Count\"].mean()]*len(movie_data.index), \n",
    "                                    name='Movie YouTube likes Average', visible=False,line=dict(color='#F06A6A', dash='dash'))\n",
    "\n",
    "#data = [movie_revenue, movie_revenue_avg, movie_cost, movie_cost_avg]\n",
    "data = [movie_revenue, movie_revenue_avg, movie_youtube_like, movie_youtube_like_avg]\n",
    "\n",
    "revenue_annotations=[dict(x= '', y=movie_data[\"Total Gross\"].mean(), xref='x', yref='y',\n",
    "                       text='Revenue Average:<br>'+str(movie_data[\"Total Gross\"].mean()), ax=0, ay=-40),\n",
    "                     dict(x=movie_data[\"Total Gross\"].idxmax(), y=movie_data[\"Total Gross\"].max(), xref='x', yref='y',\n",
    "                       text='Revenue Max:<br>'+str(movie_data[\"Total Gross\"].max()), ax=0, ay=-40)]\n",
    "youtube_like_annotations=[dict(x= '', y=movie_data[\"Like Count\"].mean(), xref='x', yref='y',\n",
    "                      text='YouTube likes Average:<br>'+str(movie_data[\"Like Count\"].mean()), ax=0, ay=40),\n",
    "                          dict(x=movie_data[\"Like Count\"].idxmin(), y=movie_data[\"Like Count\"].min(), xref='x', yref='y',\n",
    "                           text='YouTube likes Min:<br>'+str(movie_data[\"Like Count\"].min()), ax=0, ay=40)]\n",
    "\n",
    "\n",
    "updatemenus = list([\n",
    "    dict(type=\"buttons\",\n",
    "         active=-1,\n",
    "         buttons=list([   \n",
    "            dict(label = 'Movies Revenue',\n",
    "                 method = 'update',\n",
    "                 args = [{'visible': [True, True, False, False]},\n",
    "                         {'title': 'Movies Revenue',\n",
    "                          'annotations': revenue_annotations}]),\n",
    "            dict(label = 'Movies YouTube likes',\n",
    "                 method = 'update',\n",
    "                 args = [{'visible': [False, False, True, True]},\n",
    "                         {'title': 'Movies YouTube likes',\n",
    "                          'annotations': youtube_like_annotations}]),\n",
    "            dict(label = 'Both',\n",
    "                 method = 'update',\n",
    "                 args = [{'visible': [True, True, True, True]},\n",
    "                         {'title': 'Movie',\n",
    "                          'annotations': revenue_annotations+youtube_like_annotations}]),\n",
    "            dict(label = 'Reset',\n",
    "                 method = 'update',\n",
    "                 args = [{'visible': [True, False, True, False]},\n",
    "                         {'title': 'Movie',\n",
    "                          'annotations': []}])\n",
    "        ]),\n",
    "    )\n",
    "])\n",
    "\n",
    "layout = dict(title='Movie', showlegend=False, updatemenus=updatemenus)\n",
    "fig = dict(data=data, layout=layout)\n",
    "py.iplot(fig, filename='update_button')"
   ]
  },
  {
   "cell_type": "code",
   "execution_count": 4,
   "metadata": {},
   "outputs": [
    {
     "data": {
      "application/vnd.jupyter.widget-view+json": {
       "model_id": "290dc97ad5a649a9849184cebd912602",
       "version_major": 2,
       "version_minor": 0
      },
      "text/plain": [
       "interactive(children=(Dropdown(description='color', options=('red', 'green', 'blue'), value='red'), Output()),…"
      ]
     },
     "metadata": {},
     "output_type": "display_data"
    },
    {
     "data": {
      "text/plain": [
       "<function __main__.f>"
      ]
     },
     "execution_count": 4,
     "metadata": {},
     "output_type": "execute_result"
    }
   ],
   "source": [
    "## Bar Chart to display number of movies produced by each Studio\n",
    "\n",
    "# count number of movies by each studio\n",
    "studio_data = (movie_data[\"Studio\"].value_counts())\n",
    "studio_data = studio_data.to_frame()\n",
    "studio_data = studio_data.reset_index()\n",
    "# rename columns in studio_data\n",
    "studio_data = studio_data.rename(columns = {\"index\":\"studio_name\", \"Studio\":\"movie_count\"})\n",
    "# create list of studio names\n",
    "studios =studio_data[\"studio_name\"].tolist()\n",
    "# create list of colors for bar chart\n",
    "colors = [\"red\", \"green\", \"blue\"]\n",
    "# create bar chart to display studios and number of movies  \n",
    "def f(color):\n",
    "    plt.bar(studio_data[\"studio_name\"].sort_values(), studio_data[\"movie_count\"], color= color )\n",
    "    plt.title(\"Movies by Studio\",fontsize = 18 )\n",
    "    plt.xlabel(\"Studio\", fontsize = 14)\n",
    "    plt.ylabel(\"Number of Movies\", fontsize = 14)\n",
    "    plt.ylim(0, studio_data[\"movie_count\"].max() + 1)\n",
    "    mpl.style.use(\"seaborn\")\n",
    "    plt.show()    \n",
    "interact(f, color=colors)"
   ]
  },
  {
   "cell_type": "code",
   "execution_count": 53,
   "metadata": {},
   "outputs": [
    {
     "data": {
      "image/png": "[encoded data removed]",
      "text/plain": [
       "<matplotlib.figure.Figure at 0x115acac50>"
      ]
     },
     "metadata": {},
     "output_type": "display_data"
    }
   ],
   "source": [
    "movie_data.columns = movie_data.columns.str.replace(\" \", \"_\")\n",
    "\n",
    "revenue = movie_data.groupby([\"Year\",\"Studio\"]).Total_Gross.sum()\n",
    "revenue_df = pd.DataFrame(revenue)\n",
    "revenue_pivot = pd.pivot_table(revenue_df,values='Total_Gross', index=['Year'], columns=['Studio'], aggfunc=np.sum )\n",
    "revenue_pivot = revenue_pivot.reset_index()\n",
    "revenue_pivot = revenue_pivot.fillna(value=0)\n",
    "\n",
    "movies_list = movie_data[\"Studio\"].unique().tolist()\n",
    "\n",
    "for Studio in Studio_list:\n",
    "    plt.plot(revenue_pivot[\"Year\"], revenue_pivot[Studio], label = Studio)\n",
    "    plt.title(\"Studio Revenue by Year\",fontsize = 18 )\n",
    "    plt.legend(title= \"Studio\",loc='upper left', prop={'size':6}, bbox_to_anchor=(1,1) )\n",
    "    plt.ylabel(\"Movie Revenue\", fontsize = 14)\n",
    "    plt.xlabel(\"Year of Release\", fontsize = 14)\n",
    "    \n",
    "    #mpl.style.use(\"seaborn\")\n",
    "plt.show() \n"
   ]
  },
  {
   "cell_type": "code",
   "execution_count": 6,
   "metadata": {},
   "outputs": [
    {
     "data": {
      "application/vnd.jupyter.widget-view+json": {
       "model_id": "81b1883ac7324e83accf71fb36d47ef1",
       "version_major": 2,
       "version_minor": 0
      },
      "text/plain": [
       "interactive(children=(Dropdown(description='Movie', options=('The Hunger Games: Catching Fire', 'Iron Man 3', …"
      ]
     },
     "metadata": {},
     "output_type": "display_data"
    },
    {
     "data": {
      "text/plain": [
       "<function __main__.f>"
      ]
     },
     "execution_count": 6,
     "metadata": {},
     "output_type": "execute_result"
    }
   ],
   "source": [
    "movies_list = movie_data[\"Movie_Title\"].tolist()\n",
    "\n",
    "def f(Movie):\n",
    "    like = movie_data.loc[(movie_data[\"Movie_Title\"] == Movie),'Like_Count'].values\n",
    "    dislike = movie_data.loc[(movie_data[\"Movie_Title\"] == Movie),'Dislike_Count'].values\n",
    "    cols =[\"lightskyblue\",\"lightcoral\"]\n",
    "    plt.pie([like, dislike],  autopct= '%1.1f%%', explode= (0,0.1), shadow=True, startangle=140, colors = cols)\n",
    "    plt.title(\"YouTube Like v.s YouTube Dislike\",fontsize = 18 )\n",
    "    plt.legend([\"YouTube Like\", \"YouTube Dislike\"])\n",
    "    plt.axis(\"equal\")\n",
    "    plt.show()\n",
    "    \n",
    "interact(f, Movie=movies_list)"
   ]
  },
  {
   "cell_type": "code",
   "execution_count": 55,
   "metadata": {},
   "outputs": [
    {
     "data": {
      "application/vnd.jupyter.widget-view+json": {
       "model_id": "0f5dd8da6f884c0a80578b0be8f567a8",
       "version_major": 2,
       "version_minor": 0
      },
      "text/plain": [
       "interactive(children=(Dropdown(description='Studio', options=('LGF', 'BV', 'Uni.', 'WB', 'WB (NL)', 'Par.', 'F…"
      ]
     },
     "metadata": {},
     "output_type": "display_data"
    },
    {
     "data": {
      "text/plain": [
       "<function __main__.f>"
      ]
     },
     "execution_count": 55,
     "metadata": {},
     "output_type": "execute_result"
    }
   ],
   "source": [
    "studio_list = movie_data[\"Studio\"].unique().tolist()\n",
    "\n",
    "def f(Studio):\n",
    "    plt.plot(revenue_pivot[\"Year\"], revenue_pivot[Studio], color = \"green\", label = Studio + \" Revenue\")\n",
    "    #plt.plot(year, cost, color = \"red\", label = Studio + \"Budget\")\n",
    "    plt.title(\"Studio Budget and Revenue by Year\",fontsize = 18 )\n",
    "    plt.legend(title= \"Studio\")\n",
    "    plt.ylabel(\"Amount($)\")\n",
    "    plt.xlabel(\"Year of Release\")\n",
    "    plt.xticks(range(2013,2018))\n",
    "    mpl.style.use(\"seaborn\")\n",
    "    plt.show()\n",
    "    \n",
    "interact(f, Studio=studio_list)\n",
    "\n",
    "\n"
   ]
  },
  {
   "cell_type": "code",
   "execution_count": 35,
   "metadata": {},
   "outputs": [
    {
     "data": {
      "text/plain": [
       "Index(['Movie_Title', 'Movie_Title_(loop)', 'Year', 'Studio', 'Total_Gross',\n",
       "       'Theaters', 'Opening', 'Open', 'Close', 'Rated', 'Runtime_(Minutes)',\n",
       "       'Director', 'Actor_1', 'Actor_2', 'Rotten_Tomatoes_(%)', 'Metacritic',\n",
       "       'IMDB_Rating', 'Production_Studio', 'Month', 'Season', 'View_Count',\n",
       "       'Video_Title', 'Like_Count', 'Dislike_Count', 'Comment_Count'],\n",
       "      dtype='object')"
      ]
     },
     "execution_count": 35,
     "metadata": {},
     "output_type": "execute_result"
    }
   ],
   "source": [
    "movie_data.columns"
   ]
  },
  {
   "cell_type": "code",
   "execution_count": 58,
   "metadata": {},
   "outputs": [
    {
     "data": {
      "application/vnd.jupyter.widget-view+json": {
       "model_id": "6b6237ffbf3c4ae4bd50cf0ef1c6b95d",
       "version_major": 2,
       "version_minor": 0
      },
      "text/plain": [
       "interactive(children=(Dropdown(description='Year', options=(2013, 2014, 2015, 2016, 2017), value=2013), Output…"
      ]
     },
     "metadata": {},
     "output_type": "display_data"
    },
    {
     "data": {
      "text/plain": [
       "<function __main__.f>"
      ]
     },
     "execution_count": 58,
     "metadata": {},
     "output_type": "execute_result"
    }
   ],
   "source": [
    "year_list = movie_data[\"Year\"].unique().tolist()\n",
    "\n",
    "def f(Year):\n",
    "    movie_title = movie_data.loc[(movie_data[\"Year\"] == Year),'Movie_Title'].values\n",
    "    revenue = movie_data.loc[(movie_data[\"Year\"] == Year),'Total_Gross'].values\n",
    "    \n",
    "    plt.scatter(movie_title, revenue)\n",
    "    #plt.plot(year, cost, color = \"red\", label = Studio + \"Budget\")\n",
    "    plt.title(\" Revenue by Movie Title\",fontsize = 18 )\n",
    "    plt.legend()\n",
    "    plt.ylabel(\"Movie Revenue\", fontsize = 14)\n",
    "    plt.xlabel(\"Movie Title\", fontsize = 14)\n",
    "    plt.xticks(rotation=90)\n",
    "    mpl.style.use(\"seaborn\")\n",
    "    plt.show()\n",
    "interact(f, Year=year_list)    \n"
   ]
  },
  {
   "cell_type": "code",
   "execution_count": null,
   "metadata": {
    "collapsed": true
   },
   "outputs": [],
   "source": []
  }
 ],
 "metadata": {
  "kernelspec": {
   "display_name": "Python 3",
   "language": "python",
   "name": "python3"
  },
  "language_info": {
   "codemirror_mode": {
    "name": "ipython",
    "version": 3
   },
   "file_extension": ".py",
   "mimetype": "text/x-python",
   "name": "python",
   "nbconvert_exporter": "python",
   "pygments_lexer": "ipython3",
   "version": "3.6.3"
  }
 },
 "nbformat": 4,
 "nbformat_minor": 2
}
