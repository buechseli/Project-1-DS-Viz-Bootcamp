{
 "cells": [
  {
   "cell_type": "code",
   "execution_count": 1,
   "metadata": {
    "collapsed": true
   },
   "outputs": [],
   "source": [
    "import pandas as pd\n",
    "import numpy as np\n",
    "import requests\n",
    "import json\n",
    "from pprint import pprint\n",
    "from pandas import Series"
   ]
  },
  {
   "cell_type": "code",
   "execution_count": 2,
   "metadata": {
    "collapsed": true
   },
   "outputs": [],
   "source": [
    "url = \"http://www.omdbapi.com/?apikey=trilogy&t=\""
   ]
  },
  {
   "cell_type": "code",
   "execution_count": 3,
   "metadata": {
    "collapsed": true
   },
   "outputs": [],
   "source": [
    "#read in to CSV File\n",
    "movies_df = pd.read_csv(\"2013-2017 Box Office Data.csv\")\n"
   ]
  },
  {
   "cell_type": "code",
   "execution_count": 4,
   "metadata": {
    "collapsed": true
   },
   "outputs": [],
   "source": [
    "#Clean up Movie Titles, removing (2015) from Cinderalla, (2016) Jungle Book, (2017) Beauty and the Beast\n",
    "movies_df = movies_df.reset_index(level=None, drop = False, inplace = False, col_level = 0, col_fill = \"\")\n",
    "s = pd.DataFrame(movies_df[\"Movie Title\"])\n",
    "s1 = s.reset_index(level=None, drop = False, inplace = False, col_level = 0, col_fill = \"\")\n",
    "s2 = s1[\"Movie Title\"].str.split(\"(\").apply(Series, 1)\n",
    "s3 = s2.reset_index(level=None, drop = False, inplace = False, col_level = 0, col_fill = \"\")"
   ]
  },
  {
   "cell_type": "code",
   "execution_count": 5,
   "metadata": {
    "collapsed": true
   },
   "outputs": [],
   "source": [
    "#merge the dataframes\n",
    "movies_merge = movies_df.merge(s3, how='inner', on=\"index\", left_on=None, right_on=None, left_index=False, right_index=False, sort=False, suffixes=('_x', '_y'), copy=True, indicator=False)\n"
   ]
  },
  {
   "cell_type": "code",
   "execution_count": 6,
   "metadata": {},
   "outputs": [],
   "source": [
    "#delete excessive columns \n",
    "del movies_merge[\"Movie Title\"]\n",
    "del movies_merge[1]\n",
    "del movies_merge[\"index\"]\n",
    "del movies_merge[\"Theaters.1\"]\n",
    "movies_merge = movies_merge.rename(columns = {0:\"Movie Title\"})\n",
    "movies_df = movies_merge[[\"Movie Title\", \"Year\", \"Studio\",\"Total Gross\",\"Theaters\", \"Opening\", \"Open\", \"Close\"]]\n",
    "\n"
   ]
  },
  {
   "cell_type": "code",
   "execution_count": 7,
   "metadata": {},
   "outputs": [],
   "source": [
    "#Add the Additional Columns\n",
    "movies_df[\"Rated\"] = \"\"\n",
    "movies_df[\"Runtime\"]= \"\"\n",
    "movies_df[\"Director\"]=\"\"\n",
    "movies_df[\"Actor 1\"] = \"\"\n",
    "movies_df[\"Actor 2\"] = \"\"\n",
    "movies_df[\"Rotten Tomatoes\"] = \"\"\n",
    "movies_df[\"Metacritic\"] = \"\"\n",
    "movies_df[\"IMDB Rating\"] = \"\"\n",
    "movies_df[\"Production Studio\"] =\"\"\n",
    "\n",
    "\n"
   ]
  },
  {
   "cell_type": "code",
   "execution_count": 8,
   "metadata": {
    "collapsed": true
   },
   "outputs": [],
   "source": [
    "for index, row in movies_df.iterrows():\n",
    "    base_url = \"http://www.omdbapi.com/?apikey=trilogy\"\n",
    "    params = {\n",
    "        \"t\": row[\"Movie Title\"],\n",
    "        \"y\": row[\"Year\"]\n",
    "    }\n",
    "\n",
    "    # make request and print url\n",
    "    response = requests.get(base_url, params=params).json()\n",
    "    \n",
    "    \n",
    "    try:\n",
    "        movies_df.set_value(index, \"Rated\", response[\"Rated\"])\n",
    "        movies_df.set_value(index, \"Runtime\", response[\"Runtime\"])\n",
    "        movies_df.set_value(index, \"Director\", response[\"Director\"])\n",
    "        movies_df.set_value(index, \"Actor 1\", response[\"Actors\"])\n",
    "        movies_df.set_value(index, \"Actor 2\", response[\"Actors\"])\n",
    "        movies_df.set_value(index, \"Rotten Tomatoes\", response[\"Ratings\"][1][\"Value\"])\n",
    "        movies_df.set_value(index, \"Metacritic\", response[\"Ratings\"][2][\"Value\"])\n",
    "        movies_df.set_value(index, \"IMDB Rating\", response[\"Ratings\"][0][\"Value\"])\n",
    "        movies_df.set_value(index, \"Production Studio\", response[\"Production\"])\n",
    "            \n",
    "        \n",
    "    except (KeyError, IndexError):\n",
    "        print(f\" {movie} Missing field/result... skipping.\")\n",
    "    \n",
    "   \n",
    "    \n",
    "    "
   ]
  },
  {
   "cell_type": "code",
   "execution_count": 9,
   "metadata": {
    "collapsed": true
   },
   "outputs": [],
   "source": [
    "#Clean data take out $ and commas to convert to integer\n",
    "movies_df['Total Gross'] = movies_df['Total Gross'].str.replace('$','')\n",
    "movies_df['Total Gross'] = movies_df['Total Gross'].str.replace(',','')\n",
    "movies_df['Total Gross'] = pd.to_numeric(movies_df['Total Gross'])\n",
    "\n",
    "movies_df['Opening'] = movies_df['Opening'].str.replace('$','')\n",
    "movies_df['Opening'] = movies_df['Opening'].str.replace(',','')\n",
    "movies_df['Opening'] = pd.to_numeric(movies_df['Opening'])\n",
    "\n",
    "movies_df['Runtime'] = movies_df['Runtime'].str.replace('min','')\n",
    "movies_df['Runtime'] = pd.to_numeric(movies_df['Runtime'])\n",
    "movies_df = movies_df.rename(columns = {\"Runtime\":\"Runtime (Minutes)\"})\n",
    "\n",
    "movies_df['Rotten Tomatoes'] = movies_df['Rotten Tomatoes'].str.replace('%','')\n",
    "movies_df['Rotten Tomatoes'] = pd.to_numeric(movies_df['Rotten Tomatoes'])\n",
    "movies_df = movies_df.rename(columns = {\"Rotten Tomatoes\":\"Rotten Tomatoes (%)\"})\n"
   ]
  },
  {
   "cell_type": "code",
   "execution_count": 10,
   "metadata": {},
   "outputs": [],
   "source": [
    "for index, row in movies_df.iterrows():\n",
    "    integer1 = int(row['Metacritic'].split('/')[0])\n",
    "    integer2 = int(row['Metacritic'].split('/')[1])\n",
    "    movies_df.set_value(index, \"Metacritic\", (integer1/integer2)*100)\n",
    "    movies_df.set_value(index, \"IMDB Rating\", (float(row['IMDB Rating'].split('/')[0]))*10)\n",
    "    movies_df.set_value(index, \"Actor 1\", str(row[\"Actor 1\"].split(\",\")[0]))\n",
    "    movies_df.set_value(index, \"Actor 2\", str(row[\"Actor 2\"].split(\",\")[1]))\n",
    "    movies_df.set_value(index, \"Director\", str(row[\"Director\"].split(\",\")[0]))\n",
    "  \n",
    "\n"
   ]
  },
  {
   "cell_type": "code",
   "execution_count": 11,
   "metadata": {
    "collapsed": true
   },
   "outputs": [],
   "source": [
    "movies_df.to_csv(\"output/movies_data.csv\", encoding = \"utf-8\")"
   ]
  },
  {
   "cell_type": "code",
   "execution_count": null,
   "metadata": {
    "collapsed": true
   },
   "outputs": [],
   "source": []
  }
 ],
 "metadata": {
  "kernelspec": {
   "display_name": "Python 3",
   "language": "python",
   "name": "python3"
  },
  "language_info": {
   "codemirror_mode": {
    "name": "ipython",
    "version": 3
   },
   "file_extension": ".py",
   "mimetype": "text/x-python",
   "name": "python",
   "nbconvert_exporter": "python",
   "pygments_lexer": "ipython3",
   "version": "3.6.3"
  }
 },
 "nbformat": 4,
 "nbformat_minor": 2
}
